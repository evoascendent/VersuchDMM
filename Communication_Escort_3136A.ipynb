{
 "cells": [
  {
   "cell_type": "markdown",
   "metadata": {},
   "source": [
    "Test der seriellen Schnittstelle\n",
    "https://media.readthedocs.org/pdf/pyserial/latest/pyserial.pdf"
   ]
  },
  {
   "cell_type": "code",
   "execution_count": 1,
   "metadata": {},
   "outputs": [],
   "source": [
    "import serial\n",
    "import time\n",
    "import numpy as np"
   ]
  },
  {
   "cell_type": "code",
   "execution_count": 2,
   "metadata": {},
   "outputs": [],
   "source": [
    "readBufLen = 20\n",
    "timeoutVal = 0\n",
    "voltage=np.zeros(10)"
   ]
  },
  {
   "cell_type": "code",
   "execution_count": 5,
   "metadata": {},
   "outputs": [
    {
     "name": "stdout",
     "output_type": "stream",
     "text": [
      "Voltmeter connected to  com6\n"
     ]
    }
   ],
   "source": [
    "try :\n",
    "    serVolt=serial.Serial('com6', timeout = timeoutVal)\n",
    "except : \n",
    "    serVolt.close()\n",
    "    serVolt=serial.Serial('com6', timeout = timeoutVal)\n",
    "print(\"Voltmeter connected to \", serVolt.name)"
   ]
  },
  {
   "cell_type": "code",
   "execution_count": 6,
   "metadata": {},
   "outputs": [
    {
     "name": "stdout",
     "output_type": "stream",
     "text": [
      "Amperemeter connected to  com7\n"
     ]
    }
   ],
   "source": [
    "try :\n",
    "    serAmp=serial.Serial('com7', timeout = timeoutVal)\n",
    "except : \n",
    "    serAmp.close()\n",
    "    serAmp=serial.Serial('com7', timeout = timeoutVal)\n",
    "print(\"Amperemeter connected to \", serAmp.name)"
   ]
  },
  {
   "cell_type": "code",
   "execution_count": 7,
   "metadata": {},
   "outputs": [
    {
     "name": "stdout",
     "output_type": "stream",
     "text": [
      "bytes sent:  4\n",
      "b''\n"
     ]
    }
   ],
   "source": [
    "print(\"bytes sent: \", serVolt.write(b'RST\\r'))\n",
    "responseVolt = serVolt.readline()\n",
    "print(responseVolt)"
   ]
  },
  {
   "cell_type": "code",
   "execution_count": 8,
   "metadata": {},
   "outputs": [
    {
     "name": "stdout",
     "output_type": "stream",
     "text": [
      "bytes sent:  4\n",
      "b''\n"
     ]
    }
   ],
   "source": [
    "print(\"bytes sent: \", serAmp.write(b'RST\\r'))\n",
    "responseAmp = serAmp.readline()\n",
    "print(responseAmp)"
   ]
  },
  {
   "cell_type": "code",
   "execution_count": null,
   "metadata": {
    "collapsed": true
   },
   "outputs": [],
   "source": [
    "# key command K14 = \"REL\" key\n",
    "print(\"bytes sent: \", serAmp.write(b'K14\\r'))\n",
    "responseAmp = serAmp.readline()\n",
    "print(responseAmp)"
   ]
  },
  {
   "cell_type": "code",
   "execution_count": null,
   "metadata": {
    "collapsed": true
   },
   "outputs": [],
   "source": [
    "# key command K2 = \"DC current\" key\n",
    "print(\"bytes sent: \", serAmp.write(b'K2\\r'))\n",
    "responseAmp = serAmp.readline()\n",
    "print(responseAmp)"
   ]
  },
  {
   "cell_type": "code",
   "execution_count": null,
   "metadata": {
    "collapsed": true
   },
   "outputs": [],
   "source": [
    "# key command K9 = \"range up\" key\n",
    "print(\"bytes sent: \", serAmp.write(b'K9\\r'))\n",
    "responseAmp = serAmp.readline()\n",
    "print(responseAmp)"
   ]
  },
  {
   "cell_type": "markdown",
   "metadata": {},
   "source": [
    "Auslesen der primären Anzeige\n"
   ]
  },
  {
   "cell_type": "code",
   "execution_count": null,
   "metadata": {
    "collapsed": true
   },
   "outputs": [],
   "source": [
    "print(\"bytes sent: \", serAmp.write(b'R1\\r'))\n",
    "responseAmp = serAmp.readline()\n",
    "print(responseAmp)\n",
    "responseAmp = serAmp.readline()\n",
    "print(responseAmp)"
   ]
  },
  {
   "cell_type": "code",
   "execution_count": null,
   "metadata": {
    "collapsed": true
   },
   "outputs": [],
   "source": [
    "voltage = float(responseAmp)\n",
    "voltage"
   ]
  },
  {
   "cell_type": "code",
   "execution_count": 11,
   "metadata": {},
   "outputs": [
    {
     "name": "stdout",
     "output_type": "stream",
     "text": [
      "bytes sent:  3\n",
      "b'=>\\r\\n'\n",
      "6.978\n",
      "bytes sent:  3\n",
      "b'=>\\r\\n'\n",
      "7.762\n",
      "bytes sent:  3\n",
      "b'=>\\r\\n'\n",
      "7.762\n",
      "bytes sent:  3\n",
      "b'=>\\r\\n'\n",
      "5.784\n",
      "bytes sent:  3\n",
      "b'=>\\r\\n'\n",
      "2.8146\n",
      "bytes sent:  3\n",
      "b'=>\\r\\n'\n",
      "2.2862\n",
      "bytes sent:  3\n",
      "b'=>\\r\\n'\n",
      "9.076\n",
      "bytes sent:  3\n",
      "b'=>\\r\\n'\n",
      "8.515\n",
      "bytes sent:  3\n",
      "b'=>\\r\\n'\n",
      "6.377\n",
      "bytes sent:  3\n",
      "b'=>\\r\\n'\n",
      "11.381\n"
     ]
    }
   ],
   "source": [
    "for i in range (0,10) : \n",
    "    print(\"bytes sent: \", serAmp.write(b'R1\\r'))\n",
    "    #responseAmp = serAmp.readline()\n",
    "    #print(responseAmp)\n",
    "    responseAmp = serAmp.readline()\n",
    "    print(responseAmp)\n",
    "    try : \n",
    "        voltage[i] = float(responseAmp)\n",
    "    except : \n",
    "        responseAmp = serAmp.readline()\n",
    "        voltage[i] = float(responseAmp)\n",
    "    print(voltage[i])\n",
    "    time.sleep(1)\n",
    "    \n",
    "    \n",
    " \n"
   ]
  },
  {
   "cell_type": "code",
   "execution_count": 12,
   "metadata": {},
   "outputs": [
    {
     "data": {
      "text/plain": [
       "array([ 6.978 ,  7.762 ,  7.762 ,  5.784 ,  2.8146,  2.2862,  9.076 ,\n",
       "        8.515 ,  6.377 , 11.381 ])"
      ]
     },
     "execution_count": 12,
     "metadata": {},
     "output_type": "execute_result"
    }
   ],
   "source": [
    "voltage\n"
   ]
  },
  {
   "cell_type": "code",
   "execution_count": null,
   "metadata": {
    "collapsed": true
   },
   "outputs": [],
   "source": []
  }
 ],
 "metadata": {
  "kernelspec": {
   "display_name": "Python 3",
   "language": "python",
   "name": "python3"
  },
  "language_info": {
   "codemirror_mode": {
    "name": "ipython",
    "version": 3
   },
   "file_extension": ".py",
   "mimetype": "text/x-python",
   "name": "python",
   "nbconvert_exporter": "python",
   "pygments_lexer": "ipython3",
   "version": "3.7.3"
  }
 },
 "nbformat": 4,
 "nbformat_minor": 2
}
